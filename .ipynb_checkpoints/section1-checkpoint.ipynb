{
 "cells": [
  {
   "cell_type": "markdown",
   "metadata": {},
   "source": [
    "## 1"
   ]
  },
  {
   "cell_type": "code",
   "execution_count": 3,
   "metadata": {},
   "outputs": [
    {
     "data": {
      "text/plain": [
       "'desserts'"
      ]
     },
     "execution_count": 3,
     "metadata": {},
     "output_type": "execute_result"
    }
   ],
   "source": [
    "text = 'stressed'\n",
    "''.join([text[-k] for k in range(1, len(text)+1)])"
   ]
  },
  {
   "cell_type": "markdown",
   "metadata": {},
   "source": [
    "## 2"
   ]
  },
  {
   "cell_type": "code",
   "execution_count": 5,
   "metadata": {},
   "outputs": [
    {
     "data": {
      "text/plain": [
       "'パトカー'"
      ]
     },
     "execution_count": 5,
     "metadata": {},
     "output_type": "execute_result"
    }
   ],
   "source": [
    "text = 'パタトクカシーー'\n",
    "''.join([text[k] for k in range(0, 8, 2)])"
   ]
  },
  {
   "cell_type": "markdown",
   "metadata": {},
   "source": [
    "## 3"
   ]
  },
  {
   "cell_type": "code",
   "execution_count": 7,
   "metadata": {},
   "outputs": [
    {
     "data": {
      "text/plain": [
       "'パタトクカシーー'"
      ]
     },
     "execution_count": 7,
     "metadata": {},
     "output_type": "execute_result"
    }
   ],
   "source": [
    "text1 = 'パトカー'\n",
    "text2 = 'タクシー'\n",
    "''.join([''.join([char1, char2]) for char1, char2 in zip(text1, text2)])"
   ]
  },
  {
   "cell_type": "markdown",
   "metadata": {},
   "source": [
    "## 4"
   ]
  },
  {
   "cell_type": "code",
   "execution_count": 12,
   "metadata": {},
   "outputs": [
    {
     "data": {
      "text/plain": [
       "[3, 1, 4, 1, 6, 9, 2, 7, 5, 3, 5, 8, 9, 7, 9]"
      ]
     },
     "execution_count": 12,
     "metadata": {},
     "output_type": "execute_result"
    }
   ],
   "source": [
    "text = \"Now I need a drink, alcoholic of course, after the heavy lectures involving quantum mechanics.\"\n",
    "[len(word.strip().replace('.', '')) for word in text.split(' ')]"
   ]
  },
  {
   "cell_type": "markdown",
   "metadata": {},
   "source": [
    "## 5"
   ]
  },
  {
   "cell_type": "code",
   "execution_count": 19,
   "metadata": {},
   "outputs": [
    {
     "data": {
      "text/plain": [
       "['H',\n",
       " 'He',\n",
       " 'Li',\n",
       " 'Be',\n",
       " 'B',\n",
       " 'C',\n",
       " 'N',\n",
       " 'O',\n",
       " 'F',\n",
       " 'Ne',\n",
       " 'Na',\n",
       " 'Mi',\n",
       " 'Al',\n",
       " 'Si',\n",
       " 'P',\n",
       " 'S',\n",
       " 'Cl',\n",
       " 'Ar',\n",
       " 'K',\n",
       " 'Ca']"
      ]
     },
     "execution_count": 19,
     "metadata": {},
     "output_type": "execute_result"
    }
   ],
   "source": [
    "text = \"Hi He Lied Because Boron Could Not Oxidize Fluorine. New Nations Might Also Sign Peace Security Clause. Arthur King Can.\"\n",
    "[word.strip().replace('.', '')[0] if (k+1) in [1, 5, 6, 7, 8, 9, 15, 16, 19] \n",
    " else word.strip().replace('.', '')[:2] for k, word in enumerate(text.split(' '))]"
   ]
  },
  {
   "cell_type": "markdown",
   "metadata": {},
   "source": [
    "## 6"
   ]
  },
  {
   "cell_type": "code",
   "execution_count": 26,
   "metadata": {},
   "outputs": [
    {
     "name": "stdout",
     "output_type": "stream",
     "text": [
      "['I', ' ', 'a', 'm', ' ', 'a', 'n', ' ', 'N', 'L', 'P', 'e', 'r']\n",
      "['I ', ' a', 'am', 'm ', ' a', 'an', 'n ', ' N', 'NL', 'LP', 'Pe', 'er']\n",
      "['I a', ' am', 'am ', 'm a', ' an', 'an ', 'n N', ' NL', 'NLP', 'LPe', 'Per']\n",
      "[['I'], ['am'], ['an'], ['NLPer']]\n",
      "[['I', 'am'], ['am', 'an'], ['an', 'NLPer']]\n",
      "[['I', 'am', 'an'], ['am', 'an', 'NLPer']]\n"
     ]
    }
   ],
   "source": [
    "def letter_ngram(text, n):\n",
    "    return [text[k:k+n] for k in range(len(text)-(n-1))]\n",
    "\n",
    "text = 'I am an NLPer'\n",
    "print(letter_ngram(text, 1))\n",
    "print(letter_ngram(text, 2))\n",
    "print(letter_ngram(text, 3))\n",
    "\n",
    "def word_ngram(text, n):\n",
    "    word_list = text.split(' ')\n",
    "    return [word_list[k:(k+n)] for k in range(len(word_list)-(n-1))]\n",
    "    \n",
    "print(word_ngram(text, 1))\n",
    "print(word_ngram(text, 2))\n",
    "print(word_ngram(text, 3))"
   ]
  },
  {
   "cell_type": "markdown",
   "metadata": {},
   "source": [
    "## 7"
   ]
  },
  {
   "cell_type": "code",
   "execution_count": 37,
   "metadata": {},
   "outputs": [
    {
     "name": "stdout",
     "output_type": "stream",
     "text": [
      "['pa', 'ar', 'ra', 'ap', 'pa', 'ar', 'ra', 'ap', 'pa', 'ar', 'ra', 'ad', 'di', 'is', 'se']\n",
      "['pa', 'ar', 'ra', 'ag', 'gr', 'ra', 'ap', 'ph']\n",
      "{'pa', 'ad', 'se', 'ra', 'is', 'gr', 'ph', 'ag', 'ap', 'ar', 'di'}\n",
      "{'ap', 'pa', 'ra', 'ar'}\n",
      "{'ad', 'se', 'is', 'ph', 'ag', 'gr', 'di'}\n"
     ]
    }
   ],
   "source": [
    "text1 = 'paraparaparadise'\n",
    "text2 = 'paragraph'\n",
    "bi_gram1 = letter_ngram(text1, 2)\n",
    "bi_gram2 = letter_ngram(text2, 2)\n",
    "\n",
    "print(bi_gram1)\n",
    "print(bi_gram2)\n",
    "\n",
    "union = set(bi_gram1) | set(bi_gram2)\n",
    "inter = set(bi_gram1) & set(bi_gram2)\n",
    "dif = set(bi_gram1) ^ set(bi_gram2)\n",
    "\n",
    "print(union)\n",
    "print(inter)\n",
    "print(dif)"
   ]
  },
  {
   "cell_type": "markdown",
   "metadata": {},
   "source": [
    "## 8"
   ]
  },
  {
   "cell_type": "code",
   "execution_count": 50,
   "metadata": {},
   "outputs": [
    {
     "name": "stdout",
     "output_type": "stream",
     "text": [
      "I zn zm NLPvi\n",
      "I am an NLPer\n"
     ]
    }
   ],
   "source": [
    "def cipher(text):\n",
    "    return ''.join([chr(219-ord(char)) if char.islower() else char for char in text])\n",
    "\n",
    "text = 'I am an NLPer'\n",
    "coded = cipher(text)\n",
    "decoded = cipher(coded)\n",
    "\n",
    "print(coded)\n",
    "print(decoded)"
   ]
  },
  {
   "cell_type": "markdown",
   "metadata": {},
   "source": [
    "## 9"
   ]
  },
  {
   "cell_type": "code",
   "execution_count": 60,
   "metadata": {},
   "outputs": [
    {
     "data": {
      "text/plain": [
       "['I',\n",
       " \"unl'todc\",\n",
       " 'bleeive',\n",
       " 'that',\n",
       " 'I',\n",
       " 'loudc',\n",
       " 'acuayllt',\n",
       " 'ndnsuedtra',\n",
       " 'what',\n",
       " 'I',\n",
       " 'was',\n",
       " 'deragni',\n",
       " ':',\n",
       " 'the',\n",
       " 'lpeahnnome',\n",
       " 'pewro',\n",
       " 'of',\n",
       " 'the',\n",
       " 'uhman',\n",
       " 'mind.']"
      ]
     },
     "execution_count": 60,
     "metadata": {},
     "output_type": "execute_result"
    }
   ],
   "source": [
    "import numpy as np\n",
    "import random\n",
    "\n",
    "def shuffle_text(text):\n",
    "    word_list = text.split(' ')\n",
    "    return [word if (k == 0) or (k == len(word_list) - 1) or len(word) <= 4 else \n",
    "            ''.join([word[i] for i in np.random.permutation(np.arange(len(word)))]) \n",
    "            for k, word in enumerate(word_list)]\n",
    "\n",
    "text = \"I couldn't believe that I could actually understand what I was reading : the phenomenal power of the human mind.\"\n",
    "shuffle_text(text)"
   ]
  },
  {
   "cell_type": "code",
   "execution_count": null,
   "metadata": {},
   "outputs": [],
   "source": []
  },
  {
   "cell_type": "code",
   "execution_count": null,
   "metadata": {},
   "outputs": [],
   "source": []
  },
  {
   "cell_type": "code",
   "execution_count": null,
   "metadata": {},
   "outputs": [],
   "source": []
  },
  {
   "cell_type": "code",
   "execution_count": null,
   "metadata": {},
   "outputs": [],
   "source": []
  }
 ],
 "metadata": {
  "kernelspec": {
   "display_name": "Python 3",
   "language": "python",
   "name": "python3"
  },
  "language_info": {
   "codemirror_mode": {
    "name": "ipython",
    "version": 3
   },
   "file_extension": ".py",
   "mimetype": "text/x-python",
   "name": "python",
   "nbconvert_exporter": "python",
   "pygments_lexer": "ipython3",
   "version": "3.7.6"
  }
 },
 "nbformat": 4,
 "nbformat_minor": 4
}
